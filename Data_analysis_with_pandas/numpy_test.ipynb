{
 "cells": [
  {
   "cell_type": "code",
   "execution_count": 7,
   "metadata": {
    "scrolled": true
   },
   "outputs": [
    {
     "data": {
      "text/plain": [
       "array([[ 0,  1,  2,  3,  4,  5,  6,  7,  8],\n",
       "       [ 9, 10, 11, 12, 13, 14, 15, 16, 17],\n",
       "       [18, 19, 20, 21, 22, 23, 24, 25, 26]])"
      ]
     },
     "execution_count": 7,
     "metadata": {},
     "output_type": "execute_result"
    }
   ],
   "source": [
    "import numpy\n",
    "\n",
    "n = numpy.arange(27)\n",
    "new = n.reshape(3, 9)\n",
    "new"
   ]
  },
  {
   "cell_type": "code",
   "execution_count": 8,
   "metadata": {},
   "outputs": [
    {
     "name": "stdout",
     "output_type": "stream",
     "text": [
      "[[[187 187 187]\n",
      "  [158 158 158]\n",
      "  [104 104 104]\n",
      "  [121 121 121]\n",
      "  [143 143 143]]\n",
      "\n",
      " [[198 198 198]\n",
      "  [125 125 125]\n",
      "  [255 255 255]\n",
      "  [255 255 255]\n",
      "  [147 147 147]]\n",
      "\n",
      " [[209 209 209]\n",
      "  [134 134 134]\n",
      "  [255 255 255]\n",
      "  [ 97  97  97]\n",
      "  [182 182 182]]]\n"
     ]
    }
   ],
   "source": [
    "import cv2\n",
    "imageFilepath = r\"data\\smallgray.png\"\n",
    "# Import image as an array\n",
    "image = cv2.imread(imageFilepath)\n",
    "print(image)"
   ]
  },
  {
   "cell_type": "code",
   "execution_count": 11,
   "metadata": {},
   "outputs": [
    {
     "data": {
      "text/plain": [
       "array([[[187, 187, 187],\n",
       "        [158, 158, 158],\n",
       "        [104, 104, 104],\n",
       "        [121, 121, 121],\n",
       "        [143, 143, 143],\n",
       "        [187, 187, 187],\n",
       "        [158, 158, 158],\n",
       "        [104, 104, 104],\n",
       "        [121, 121, 121],\n",
       "        [143, 143, 143]],\n",
       "\n",
       "       [[198, 198, 198],\n",
       "        [125, 125, 125],\n",
       "        [255, 255, 255],\n",
       "        [255, 255, 255],\n",
       "        [147, 147, 147],\n",
       "        [198, 198, 198],\n",
       "        [125, 125, 125],\n",
       "        [255, 255, 255],\n",
       "        [255, 255, 255],\n",
       "        [147, 147, 147]],\n",
       "\n",
       "       [[209, 209, 209],\n",
       "        [134, 134, 134],\n",
       "        [255, 255, 255],\n",
       "        [ 97,  97,  97],\n",
       "        [182, 182, 182],\n",
       "        [209, 209, 209],\n",
       "        [134, 134, 134],\n",
       "        [255, 255, 255],\n",
       "        [ 97,  97,  97],\n",
       "        [182, 182, 182]]], dtype=uint8)"
      ]
     },
     "execution_count": 11,
     "metadata": {},
     "output_type": "execute_result"
    }
   ],
   "source": [
    "newArr = numpy.hstack((image, image))\n",
    "newArr"
   ]
  },
  {
   "cell_type": "code",
   "execution_count": 14,
   "metadata": {},
   "outputs": [
    {
     "name": "stdout",
     "output_type": "stream",
     "text": [
      "[[[187 187 187]\n",
      "  [158 158 158]\n",
      "  [104 104 104]\n",
      "  [121 121 121]\n",
      "  [143 143 143]]\n",
      "\n",
      " [[198 198 198]\n",
      "  [125 125 125]\n",
      "  [255 255 255]\n",
      "  [255 255 255]\n",
      "  [147 147 147]]\n",
      "\n",
      " [[209 209 209]\n",
      "  [134 134 134]\n",
      "  [255 255 255]\n",
      "  [ 97  97  97]\n",
      "  [182 182 182]]\n",
      "\n",
      " [[187 187 187]\n",
      "  [158 158 158]\n",
      "  [104 104 104]\n",
      "  [121 121 121]\n",
      "  [143 143 143]]\n",
      "\n",
      " [[198 198 198]\n",
      "  [125 125 125]\n",
      "  [255 255 255]\n",
      "  [255 255 255]\n",
      "  [147 147 147]]\n",
      "\n",
      " [[209 209 209]\n",
      "  [134 134 134]\n",
      "  [255 255 255]\n",
      "  [ 97  97  97]\n",
      "  [182 182 182]]]\n"
     ]
    }
   ],
   "source": [
    "newArr = numpy.vstack((image, image))\n",
    "print(newArr)"
   ]
  }
 ],
 "metadata": {
  "kernelspec": {
   "display_name": "Python 3",
   "language": "python",
   "name": "python3"
  },
  "language_info": {
   "codemirror_mode": {
    "name": "ipython",
    "version": 3
   },
   "file_extension": ".py",
   "mimetype": "text/x-python",
   "name": "python",
   "nbconvert_exporter": "python",
   "pygments_lexer": "ipython3",
   "version": "3.9.0"
  }
 },
 "nbformat": 4,
 "nbformat_minor": 4
}
