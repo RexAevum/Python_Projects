{
 "cells": [
  {
   "cell_type": "code",
   "execution_count": 2,
   "metadata": {},
   "outputs": [],
   "source": [
    "from bokeh.plotting import figure\n",
    "from bokeh.io import output_file, show\n",
    "\n",
    "# Create fake data - has to be the same lenght\n",
    "x = [1, 2, 3, 4, 5]\n",
    "y = [6, 7, 8, 9, 10]\n",
    "\n",
    "# prepare the output file - pass name of new file\n",
    "#output_file(\"line.html\")\n",
    "\n",
    "# Create figure object\n",
    "f = figure()\n",
    "\n",
    "# Create line plot - need to bass the x-axis and y-axis values\n",
    "f.line(x, y)\n",
    "\n",
    "# show figure object\n",
    "#show(f)"
   ]
  },
  {
   "cell_type": "code",
   "execution_count": 9,
   "metadata": {},
   "outputs": [],
   "source": [
    "# make triange and circle\n",
    "\n",
    "x1 = [3, 7.5, 10]\n",
    "y1 = [3, 6, 9]\n",
    "\n",
    "# create a file\n",
    "output_file('practice1.html')\n",
    "\n",
    "# create a figure\n",
    "f1 = figure()\n",
    "\n",
    "f1.circle(x1, y1)\n",
    "show(f1)\n",
    "f1.triangle(x1, y1)\n",
    "show(f1)"
   ]
  },
  {
   "cell_type": "code",
   "execution_count": 11,
   "metadata": {
    "scrolled": true
   },
   "outputs": [],
   "source": [
    "from bokeh.plotting import figure\n",
    "from bokeh.io import output_file, show\n",
    "import pandas\n",
    "\n",
    "# Create fake data - has to be the same lenght\n",
    "df = pandas.read_csv('data.cvs')\n",
    "x = df['x']\n",
    "y = df['y']\n",
    "\n",
    "# prepare the output file - pass name of new file\n",
    "output_file(\"from_csv.html\")\n",
    "\n",
    "# Create figure object\n",
    "f = figure()\n",
    "\n",
    "# Create line plot - need to bass the x-axis and y-axis values\n",
    "f.line(x, y)\n",
    "\n",
    "# show figure object\n",
    "show(f)"
   ]
  },
  {
   "cell_type": "code",
   "execution_count": 16,
   "metadata": {},
   "outputs": [],
   "source": [
    "from bokeh.plotting import figure\n",
    "from bokeh.io import output_file, show\n",
    "import pandas\n",
    "\n",
    "# get data for vertex' from a server\n",
    "df = pandas.read_csv('http://pythonhow.com/data/bachelors.csv')\n",
    "x = df['Year']\n",
    "y = df['Engineering']\n",
    "\n",
    "# create an output file before show\n",
    "output_file('bachelors.html')\n",
    "\n",
    "# create a figure and customze it\n",
    "p=figure(plot_width=500,plot_height=400, tools='pan',title=str())\n",
    " \n",
    "p.title.text=\"Cool Data\"\n",
    "p.title.text_color=\"Gray\"\n",
    "p.title.text_font=\"times\"\n",
    "p.title.text_font_style=\"bold\"\n",
    "p.xaxis.minor_tick_line_color=None\n",
    "p.yaxis.minor_tick_line_color=None\n",
    "p.xaxis.axis_label=\"Date\"\n",
    "p.yaxis.axis_label=\"Intensity\"\n",
    "\n",
    "p.line(x, y)\n",
    "show(p)"
   ]
  },
  {
   "cell_type": "code",
   "execution_count": 20,
   "metadata": {},
   "outputs": [
    {
     "ename": "TypeError",
     "evalue": "read_csv() got an unexpected keyword argument 'sheet_name'",
     "output_type": "error",
     "traceback": [
      "\u001b[1;31m---------------------------------------------------------------------------\u001b[0m",
      "\u001b[1;31mTypeError\u001b[0m                                 Traceback (most recent call last)",
      "\u001b[1;32m<ipython-input-20-92687f58c7fc>\u001b[0m in \u001b[0;36m<module>\u001b[1;34m\u001b[0m\n\u001b[0;32m      4\u001b[0m \u001b[1;33m\u001b[0m\u001b[0m\n\u001b[0;32m      5\u001b[0m \u001b[1;31m# get data for vertex' from a server\u001b[0m\u001b[1;33m\u001b[0m\u001b[1;33m\u001b[0m\u001b[1;33m\u001b[0m\u001b[0m\n\u001b[1;32m----> 6\u001b[1;33m \u001b[0mdf\u001b[0m \u001b[1;33m=\u001b[0m \u001b[0mpandas\u001b[0m\u001b[1;33m.\u001b[0m\u001b[0mread_csv\u001b[0m\u001b[1;33m(\u001b[0m\u001b[1;34m'http://pythonhow.com/data/verlegenhuken.xlsx'\u001b[0m\u001b[1;33m,\u001b[0m \u001b[0msheet_name\u001b[0m\u001b[1;33m=\u001b[0m\u001b[1;36m0\u001b[0m\u001b[1;33m)\u001b[0m\u001b[1;33m\u001b[0m\u001b[1;33m\u001b[0m\u001b[0m\n\u001b[0m\u001b[0;32m      7\u001b[0m \u001b[0mx\u001b[0m \u001b[1;33m=\u001b[0m \u001b[0mdf\u001b[0m\u001b[1;33m[\u001b[0m\u001b[1;34m'Temperature'\u001b[0m\u001b[1;33m]\u001b[0m\u001b[1;33m/\u001b[0m\u001b[1;36m10\u001b[0m\u001b[1;33m\u001b[0m\u001b[1;33m\u001b[0m\u001b[0m\n\u001b[0;32m      8\u001b[0m \u001b[0my\u001b[0m \u001b[1;33m=\u001b[0m \u001b[0mdf\u001b[0m\u001b[1;33m[\u001b[0m\u001b[1;34m'Pressure'\u001b[0m\u001b[1;33m]\u001b[0m\u001b[1;33m/\u001b[0m\u001b[1;36m10\u001b[0m\u001b[1;33m\u001b[0m\u001b[1;33m\u001b[0m\u001b[0m\n",
      "\u001b[1;31mTypeError\u001b[0m: read_csv() got an unexpected keyword argument 'sheet_name'"
     ]
    }
   ],
   "source": [
    "from bokeh.plotting import figure\n",
    "from bokeh.io import output_file, show\n",
    "import pandas\n",
    "\n",
    "# get data for vertex' from a server\n",
    "df = pandas.read_csv('http://pythonhow.com/data/verlegenhuken.xlsx')\n",
    "x = df['Temperature']/10\n",
    "y = df['Pressure']/10\n",
    "\n",
    "# create an output file before show\n",
    "output_file('weather.html')\n",
    "\n",
    "# create a figure and customze it\n",
    "p=figure(plot_width=500,plot_height=400, tools='pan',title=str())\n",
    " \n",
    "p.title.text=\"Cool Data\"\n",
    "p.title.text_color=\"Gray\"\n",
    "p.title.text_font=\"times\"\n",
    "p.title.text_font_style=\"bold\"\n",
    "p.xaxis.minor_tick_line_color=None\n",
    "p.yaxis.minor_tick_line_color=None\n",
    "p.xaxis.axis_label=\"Temperture (c)\"\n",
    "p.yaxis.axis_label=\"Pressure (hPa)\"\n",
    "\n",
    "p.circle(x, y)\n",
    "show(p)"
   ]
  },
  {
   "cell_type": "code",
   "execution_count": null,
   "metadata": {},
   "outputs": [],
   "source": []
  }
 ],
 "metadata": {
  "kernelspec": {
   "display_name": "Python 3",
   "language": "python",
   "name": "python3"
  },
  "language_info": {
   "codemirror_mode": {
    "name": "ipython",
    "version": 3
   },
   "file_extension": ".py",
   "mimetype": "text/x-python",
   "name": "python",
   "nbconvert_exporter": "python",
   "pygments_lexer": "ipython3",
   "version": "3.9.0"
  }
 },
 "nbformat": 4,
 "nbformat_minor": 4
}
