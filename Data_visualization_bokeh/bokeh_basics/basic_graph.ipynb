{
 "cells": [
  {
   "cell_type": "code",
   "execution_count": 2,
   "metadata": {},
   "outputs": [],
   "source": [
    "from bokeh.plotting import figure\n",
    "from bokeh.io import output_file, show\n",
    "\n",
    "# Create fake data - has to be the same lenght\n",
    "x = [1, 2, 3, 4, 5]\n",
    "y = [6, 7, 8, 9, 10]\n",
    "\n",
    "# prepare the output file - pass name of new file\n",
    "#output_file(\"line.html\")\n",
    "\n",
    "# Create figure object\n",
    "f = figure()\n",
    "\n",
    "# Create line plot - need to bass the x-axis and y-axis values\n",
    "f.line(x, y)\n",
    "\n",
    "# show figure object\n",
    "#show(f)"
   ]
  },
  {
   "cell_type": "code",
   "execution_count": 9,
   "metadata": {},
   "outputs": [],
   "source": [
    "# make triange and circle - can plot more than one dataset on the same plot\n",
    "\n",
    "x1 = [3, 7.5, 10]\n",
    "y1 = [3, 6, 9]\n",
    "\n",
    "# create a file\n",
    "output_file('practice1.html')\n",
    "\n",
    "# create a figure\n",
    "f1 = figure()\n",
    "\n",
    "f1.circle(x1, y1)\n",
    "show(f1)\n",
    "f1.triangle(x1, y1)\n",
    "show(f1)"
   ]
  },
  {
   "cell_type": "code",
   "execution_count": 11,
   "metadata": {
    "scrolled": true
   },
   "outputs": [],
   "source": [
    "from bokeh.plotting import figure\n",
    "from bokeh.io import output_file, show\n",
    "import pandas\n",
    "\n",
    "# Create fake data - has to be the same lenght\n",
    "df = pandas.read_csv('data.cvs')\n",
    "x = df['x']\n",
    "y = df['y']\n",
    "\n",
    "# prepare the output file - pass name of new file\n",
    "output_file(\"from_csv.html\")\n",
    "\n",
    "# Create figure object\n",
    "f = figure()\n",
    "\n",
    "# Create line plot - need to bass the x-axis and y-axis values\n",
    "f.line(x, y)\n",
    "\n",
    "# show figure object\n",
    "show(f)"
   ]
  },
  {
   "cell_type": "code",
   "execution_count": 16,
   "metadata": {},
   "outputs": [],
   "source": [
    "from bokeh.plotting import figure\n",
    "from bokeh.io import output_file, show\n",
    "import pandas\n",
    "\n",
    "# get data for vertex' from a server\n",
    "df = pandas.read_csv('http://pythonhow.com/data/bachelors.csv')\n",
    "x = df['Year']\n",
    "y = df['Engineering']\n",
    "\n",
    "# create an output file before show\n",
    "output_file('bachelors.html')\n",
    "\n",
    "# create a figure and customze it\n",
    "p=figure(plot_width=500,plot_height=400, tools='pan',title=str())\n",
    " \n",
    "p.title.text=\"Cool Data\"\n",
    "p.title.text_color=\"Gray\"\n",
    "p.title.text_font=\"times\"\n",
    "p.title.text_font_style=\"bold\"\n",
    "p.xaxis.minor_tick_line_color=None\n",
    "p.yaxis.minor_tick_line_color=None\n",
    "p.xaxis.axis_label=\"Date\"\n",
    "p.yaxis.axis_label=\"Intensity\"\n",
    "\n",
    "p.line(x, y)\n",
    "show(p)"
   ]
  },
  {
   "cell_type": "code",
   "execution_count": 22,
   "metadata": {},
   "outputs": [],
   "source": [
    "# Creating a graph from a excel file\n",
    "from bokeh.plotting import figure\n",
    "from bokeh.io import output_file, show\n",
    "import pandas\n",
    "\n",
    "# get data for vertex' from a server\n",
    "# read_excel doesnt work on current pandas version\n",
    "#df = pandas.read_excel('http://pythonhow.com/data/verlegenhuken.xlsx')\n",
    "#x = df['Temperature']/10\n",
    "#y = df['Pressure']/10\n",
    "\n",
    "# create an output file before show\n",
    "output_file('weather.html')\n",
    "\n",
    "# create a figure and customze it\n",
    "p=figure(plot_width=500,plot_height=400, tools='pan',title=str())\n",
    " \n",
    "p.title.text=\"Cool Data\"\n",
    "p.title.text_color=\"Gray\"\n",
    "p.title.text_font=\"times\"\n",
    "p.title.text_font_style=\"bold\"\n",
    "p.xaxis.minor_tick_line_color=None\n",
    "p.yaxis.minor_tick_line_color=None\n",
    "p.xaxis.axis_label=\"Temperture (c)\"\n",
    "p.yaxis.axis_label=\"Pressure (hPa)\"\n",
    "\n",
    "p.circle(x, y)\n",
    "show(p)"
   ]
  },
  {
   "cell_type": "code",
   "execution_count": 27,
   "metadata": {},
   "outputs": [],
   "source": [
    "# Time series plot\n",
    "import pandas\n",
    "import bokeh\n",
    "\n",
    "df = pandas.read_csv('adbe.csv', parse_dates=[\"Date\"])\n",
    "\n",
    "fig = figure(width=5000, height=500, x_axis_type='datetime', sizing_mode='scale_both')\n",
    "\n",
    "fig.line(df['Date'], df['Close'], color='Orange', alpha=1)\n",
    "\n",
    "output_file('adbe.html')\n",
    "show(fig)"
   ]
  },
  {
   "cell_type": "code",
   "execution_count": null,
   "metadata": {},
   "outputs": [],
   "source": []
  }
 ],
 "metadata": {
  "kernelspec": {
   "display_name": "Python 3",
   "language": "python",
   "name": "python3"
  },
  "language_info": {
   "codemirror_mode": {
    "name": "ipython",
    "version": 3
   },
   "file_extension": ".py",
   "mimetype": "text/x-python",
   "name": "python",
   "nbconvert_exporter": "python",
   "pygments_lexer": "ipython3",
   "version": "3.9.0"
  }
 },
 "nbformat": 4,
 "nbformat_minor": 4
}
